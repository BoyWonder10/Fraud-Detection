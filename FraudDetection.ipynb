{
 "cells": [
  {
   "cell_type": "code",
   "execution_count": 1,
   "id": "44f2722c",
   "metadata": {},
   "outputs": [],
   "source": [
    "import pandas as pd\n",
    "import numpy as np\n",
    "import seaborn as sns\n",
    "import matplotlib.pyplot as plt"
   ]
  },
  {
   "cell_type": "code",
   "execution_count": 2,
   "id": "9f0d030c",
   "metadata": {},
   "outputs": [],
   "source": [
    "df = pd.read_csv('Fraud.csv')"
   ]
  },
  {
   "cell_type": "code",
   "execution_count": 3,
   "id": "87d28f34",
   "metadata": {},
   "outputs": [
    {
     "data": {
      "text/html": [
       "<div>\n",
       "<style scoped>\n",
       "    .dataframe tbody tr th:only-of-type {\n",
       "        vertical-align: middle;\n",
       "    }\n",
       "\n",
       "    .dataframe tbody tr th {\n",
       "        vertical-align: top;\n",
       "    }\n",
       "\n",
       "    .dataframe thead th {\n",
       "        text-align: right;\n",
       "    }\n",
       "</style>\n",
       "<table border=\"1\" class=\"dataframe\">\n",
       "  <thead>\n",
       "    <tr style=\"text-align: right;\">\n",
       "      <th></th>\n",
       "      <th>step</th>\n",
       "      <th>type</th>\n",
       "      <th>amount</th>\n",
       "      <th>nameOrig</th>\n",
       "      <th>oldbalanceOrg</th>\n",
       "      <th>newbalanceOrig</th>\n",
       "      <th>nameDest</th>\n",
       "      <th>oldbalanceDest</th>\n",
       "      <th>newbalanceDest</th>\n",
       "      <th>isFraud</th>\n",
       "      <th>isFlaggedFraud</th>\n",
       "    </tr>\n",
       "  </thead>\n",
       "  <tbody>\n",
       "    <tr>\n",
       "      <th>0</th>\n",
       "      <td>1</td>\n",
       "      <td>PAYMENT</td>\n",
       "      <td>9839.64</td>\n",
       "      <td>C1231006815</td>\n",
       "      <td>170136.0</td>\n",
       "      <td>160296.36</td>\n",
       "      <td>M1979787155</td>\n",
       "      <td>0.0</td>\n",
       "      <td>0.0</td>\n",
       "      <td>0</td>\n",
       "      <td>0</td>\n",
       "    </tr>\n",
       "    <tr>\n",
       "      <th>1</th>\n",
       "      <td>1</td>\n",
       "      <td>PAYMENT</td>\n",
       "      <td>1864.28</td>\n",
       "      <td>C1666544295</td>\n",
       "      <td>21249.0</td>\n",
       "      <td>19384.72</td>\n",
       "      <td>M2044282225</td>\n",
       "      <td>0.0</td>\n",
       "      <td>0.0</td>\n",
       "      <td>0</td>\n",
       "      <td>0</td>\n",
       "    </tr>\n",
       "    <tr>\n",
       "      <th>2</th>\n",
       "      <td>1</td>\n",
       "      <td>TRANSFER</td>\n",
       "      <td>181.00</td>\n",
       "      <td>C1305486145</td>\n",
       "      <td>181.0</td>\n",
       "      <td>0.00</td>\n",
       "      <td>C553264065</td>\n",
       "      <td>0.0</td>\n",
       "      <td>0.0</td>\n",
       "      <td>1</td>\n",
       "      <td>0</td>\n",
       "    </tr>\n",
       "    <tr>\n",
       "      <th>3</th>\n",
       "      <td>1</td>\n",
       "      <td>CASH_OUT</td>\n",
       "      <td>181.00</td>\n",
       "      <td>C840083671</td>\n",
       "      <td>181.0</td>\n",
       "      <td>0.00</td>\n",
       "      <td>C38997010</td>\n",
       "      <td>21182.0</td>\n",
       "      <td>0.0</td>\n",
       "      <td>1</td>\n",
       "      <td>0</td>\n",
       "    </tr>\n",
       "    <tr>\n",
       "      <th>4</th>\n",
       "      <td>1</td>\n",
       "      <td>PAYMENT</td>\n",
       "      <td>11668.14</td>\n",
       "      <td>C2048537720</td>\n",
       "      <td>41554.0</td>\n",
       "      <td>29885.86</td>\n",
       "      <td>M1230701703</td>\n",
       "      <td>0.0</td>\n",
       "      <td>0.0</td>\n",
       "      <td>0</td>\n",
       "      <td>0</td>\n",
       "    </tr>\n",
       "  </tbody>\n",
       "</table>\n",
       "</div>"
      ],
      "text/plain": [
       "   step      type    amount     nameOrig  oldbalanceOrg  newbalanceOrig  \\\n",
       "0     1   PAYMENT   9839.64  C1231006815       170136.0       160296.36   \n",
       "1     1   PAYMENT   1864.28  C1666544295        21249.0        19384.72   \n",
       "2     1  TRANSFER    181.00  C1305486145          181.0            0.00   \n",
       "3     1  CASH_OUT    181.00   C840083671          181.0            0.00   \n",
       "4     1   PAYMENT  11668.14  C2048537720        41554.0        29885.86   \n",
       "\n",
       "      nameDest  oldbalanceDest  newbalanceDest  isFraud  isFlaggedFraud  \n",
       "0  M1979787155             0.0             0.0        0               0  \n",
       "1  M2044282225             0.0             0.0        0               0  \n",
       "2   C553264065             0.0             0.0        1               0  \n",
       "3    C38997010         21182.0             0.0        1               0  \n",
       "4  M1230701703             0.0             0.0        0               0  "
      ]
     },
     "execution_count": 3,
     "metadata": {},
     "output_type": "execute_result"
    }
   ],
   "source": [
    "df.head()"
   ]
  },
  {
   "cell_type": "code",
   "execution_count": 4,
   "id": "5db59474",
   "metadata": {},
   "outputs": [],
   "source": [
    "df1 = df[['oldbalanceOrg','newbalanceOrig','oldbalanceDest','newbalanceDest','isFraud','isFlaggedFraud']]"
   ]
  },
  {
   "cell_type": "code",
   "execution_count": 5,
   "id": "11d294b0",
   "metadata": {},
   "outputs": [
    {
     "data": {
      "text/plain": [
       "oldbalanceOrg     0\n",
       "newbalanceOrig    0\n",
       "oldbalanceDest    0\n",
       "newbalanceDest    0\n",
       "isFraud           0\n",
       "isFlaggedFraud    0\n",
       "dtype: int64"
      ]
     },
     "execution_count": 5,
     "metadata": {},
     "output_type": "execute_result"
    }
   ],
   "source": [
    "df1.isnull().sum()"
   ]
  },
  {
   "cell_type": "code",
   "execution_count": 6,
   "id": "74ccd217",
   "metadata": {},
   "outputs": [
    {
     "name": "stdout",
     "output_type": "stream",
     "text": [
      "No of Normal Transactions:\n",
      "6362620\n",
      "No of Fraudulent Transactions:\n",
      "6362620\n",
      "The fraction of normal transactions is:\n",
      "50.0%\n",
      "The fraction of fraudulent transactions is:\n",
      "50.0%\n"
     ]
    }
   ],
   "source": [
    "Normal = len(df.isFraud == 0)\n",
    "Fraud = len(df.isFraud == 1)\n",
    "NormalTransaction = Normal/(Normal + Fraud) * 100\n",
    "FraudulentTransaction = Fraud/(Normal + Fraud) * 100\n",
    "print(f'No of Normal Transactions:\\n{Normal}')\n",
    "print(f'No of Fraudulent Transactions:\\n{Fraud}')\n",
    "print(f'The fraction of normal transactions is:\\n{NormalTransaction:.1f}%')\n",
    "print(f'The fraction of fraudulent transactions is:\\n{FraudulentTransaction:.1f}%')"
   ]
  },
  {
   "cell_type": "markdown",
   "id": "2f1ec8ec",
   "metadata": {},
   "source": [
    "Here the data is perfectly balanced so we can use Logistic Regression for our classification problem as its simple and works well with balanced dataset"
   ]
  },
  {
   "cell_type": "code",
   "execution_count": 7,
   "id": "74e366f7",
   "metadata": {},
   "outputs": [
    {
     "data": {
      "text/plain": [
       "2151495"
      ]
     },
     "execution_count": 7,
     "metadata": {},
     "output_type": "execute_result"
    }
   ],
   "source": [
    "# if we look at the columns newbalancedest and oldbalancedest, we have no info about the costumers whose initial start with M \n",
    "# so lets look up the number of costumers with initials M\n",
    "num_customers_with_M = df[df['nameDest'].str.startswith('M')].shape[0]\n",
    "num_customers_with_M "
   ]
  },
  {
   "cell_type": "markdown",
   "id": "373b3109",
   "metadata": {},
   "source": [
    "lets draw a correlation heatmap to Handle multi-collinearity\n",
    " "
   ]
  },
  {
   "cell_type": "code",
   "execution_count": 8,
   "id": "ec5b5466",
   "metadata": {},
   "outputs": [
    {
     "data": {
      "image/png": "[encoded data removed]",
      "text/plain": [
       "<Figure size 864x576 with 2 Axes>"
      ]
     },
     "metadata": {
      "needs_background": "light"
     },
     "output_type": "display_data"
    }
   ],
   "source": [
    "# Checking for correlation between features and drop highly correlated features\n",
    "correlation_matrix = df.corr().abs()\n",
    "plt.figure(figsize = (12,8))\n",
    "sns.heatmap(correlation_matrix, annot = True)\n",
    "# Selecting upper triangle of correlation matrix\n",
    "upper_triangle = correlation_matrix.where(np.triu(np.ones(correlation_matrix.shape), k=1).astype(bool))\n",
    "# Finding index of feature columns with correlation greater than 0.95\n",
    "to_drop = [column for column in upper_triangle.columns if any(upper_triangle[column] > 0.90)]\n",
    "# Dropping highly correlated features\n",
    "df = df.drop(to_drop, axis=1)"
   ]
  },
  {
   "cell_type": "code",
   "execution_count": 9,
   "id": "a3b468ae",
   "metadata": {},
   "outputs": [],
   "source": [
    "from sklearn.preprocessing import LabelEncoder\n",
    "label_encoders = {}\n",
    "for col in df[['type', 'amount','nameOrig','nameDest']]:\n",
    "    label_encoders[col] = LabelEncoder()\n",
    "    df[col] = label_encoders[col].fit_transform(df[col].astype(str))"
   ]
  },
  {
   "cell_type": "markdown",
   "id": "f2aaec28",
   "metadata": {},
   "source": [
    "Time for Model Building"
   ]
  },
  {
   "cell_type": "code",
   "execution_count": 10,
   "id": "b708cbd8",
   "metadata": {},
   "outputs": [],
   "source": [
    "from sklearn.model_selection import GridSearchCV, train_test_split\n",
    "from sklearn.preprocessing import StandardScaler\n",
    "from sklearn.linear_model import LogisticRegression\n",
    "from sklearn.metrics import classification_report, confusion_matrix, accuracy_score\n",
    "import itertools"
   ]
  },
  {
   "cell_type": "code",
   "execution_count": 11,
   "id": "e33282b6",
   "metadata": {},
   "outputs": [],
   "source": [
    "scaler = StandardScaler()\n",
    "df[\"NormalizedAmount\"] = scaler.fit_transform(df[\"amount\"].values.reshape(-1, 1))\n",
    "df.drop([\"amount\"], inplace= True, axis= 1)"
   ]
  },
  {
   "cell_type": "code",
   "execution_count": 12,
   "id": "dabd1ead",
   "metadata": {
    "scrolled": true
   },
   "outputs": [
    {
     "name": "stdout",
     "output_type": "stream",
     "text": [
      "Accuracy: 0.9987321784631698\n"
     ]
    }
   ],
   "source": [
    "X = df.drop(['isFraud'], axis=1)\n",
    "y = df['isFraud']\n",
    "X_train, X_test, y_train, y_test = train_test_split(X, y, test_size=0.3, random_state=42)\n",
    "scaler = StandardScaler()\n",
    "X_train_scaled = scaler.fit_transform(X_train)\n",
    "X_test_scaled = scaler.transform(X_test)\n",
    "logistic_regression = LogisticRegression()\n",
    "logistic_regression.fit(X_train_scaled, y_train)\n",
    "y_pred = logistic_regression.predict(X_test_scaled)       \n",
    "accuracy = accuracy_score(y_test, y_pred)\n",
    "print(\"Accuracy:\", accuracy)"
   ]
  },
  {
   "cell_type": "code",
   "execution_count": 13,
   "id": "c6753a0a",
   "metadata": {},
   "outputs": [
    {
     "name": "stdout",
     "output_type": "stream",
     "text": [
      "True Negative:\n",
      "1906351\n",
      "False Positive:\n",
      "0\n",
      "False Negative:\n",
      "2420\n",
      "True Positive:\n",
      "15\n",
      "              precision    recall  f1-score   support\n",
      "\n",
      "           0       1.00      1.00      1.00   1906351\n",
      "           1       1.00      0.01      0.01      2435\n",
      "\n",
      "    accuracy                           1.00   1908786\n",
      "   macro avg       1.00      0.50      0.51   1908786\n",
      "weighted avg       1.00      1.00      1.00   1908786\n",
      "\n",
      "Accuracy: 99.87321784631698\n",
      "Confusion Matrix\n",
      "[[1906351       0]\n",
      " [   2420      15]]\n"
     ]
    }
   ],
   "source": [
    "# Model evaluation\n",
    "tn, fp, fn, tp = confusion_matrix(y_test, y_pred).ravel()\n",
    "print(f'True Negative:\\n{tn}')\n",
    "print(f'False Positive:\\n{fp}')\n",
    "print(f'False Negative:\\n{fn}')\n",
    "print(f'True Positive:\\n{tp}')\n",
    "print(classification_report(y_test, y_pred))\n",
    "print(\"Accuracy:\", accuracy_score(y_test, y_pred)*100)\n",
    "confusion_matrix = confusion_matrix(y_test, y_pred.round())\n",
    "print(\"Confusion Matrix\")\n",
    "print(confusion_matrix)"
   ]
  },
  {
   "cell_type": "code",
   "execution_count": 14,
   "id": "f2764765",
   "metadata": {},
   "outputs": [],
   "source": [
    "from sklearn.metrics import ConfusionMatrixDisplay\n",
    "import matplotlib.pyplot as plt\n",
    "def plot_confusion_matrix(confusion_matrix, title):\n",
    "    disp = ConfusionMatrixDisplay(confusion_matrix=confusion_matrix)\n",
    "    disp.plot()\n",
    "    plt.title(f'Confusion Matrix - {title}')\n",
    "    plt.show()"
   ]
  },
  {
   "cell_type": "code",
   "execution_count": 15,
   "id": "fe57bc98",
   "metadata": {},
   "outputs": [
    {
     "data": {
      "image/png": "[encoded data removed]",
      "text/plain": [
       "<Figure size 432x288 with 2 Axes>"
      ]
     },
     "metadata": {
      "needs_background": "light"
     },
     "output_type": "display_data"
    }
   ],
   "source": [
    "from sklearn import metrics\n",
    "cm_display = metrics.ConfusionMatrixDisplay(confusion_matrix = confusion_matrix, display_labels = [False, True])\n",
    "cm_display.plot()\n",
    "plt.show()"
   ]
  },
  {
   "cell_type": "code",
   "execution_count": 16,
   "id": "acb7c42f",
   "metadata": {},
   "outputs": [
    {
     "data": {
      "image/png": "[encoded data removed]",
      "text/plain": [
       "<Figure size 576x432 with 1 Axes>"
      ]
     },
     "metadata": {
      "needs_background": "light"
     },
     "output_type": "display_data"
    }
   ],
   "source": [
    "from sklearn.metrics import roc_curve, auc\n",
    "import matplotlib.pyplot as plt\n",
    "def plot_roc_curve(fpr, tpr, roc_auc, title):\n",
    "    plt.figure(figsize=(8, 6))  # Setting figure size\n",
    "    plt.plot(fpr, tpr, color='blue', lw=2, label='ROC curve (AUC = %0.2f)' % roc_auc)  # Setting line color, width, and label\n",
    "    plt.plot([0, 1], [0, 1], color='red', linestyle='--', lw=2)  # Adding diagonal dashed line\n",
    "    plt.xlim([0.0, 1.0])  # Setting x-axis limits\n",
    "    plt.ylim([0.0, 1.05])  # Setting y-axis limits\n",
    "    plt.xlabel('False Positive Rate', fontsize=12)  # Setting x-axis label and font size\n",
    "    plt.ylabel('True Positive Rate', fontsize=12)  # Setting y-axis label and font size\n",
    "    plt.title('Receiver Operating Characteristic (ROC) - ' + title, fontsize=14)  # Setting plot title and font size\n",
    "    plt.legend(loc='lower right', fontsize=11)  # Adding legend and set font size\n",
    "    plt.grid(True, linestyle='--', alpha=0.5)  # Adding grid lines with dashed style and transparency\n",
    "    plt.tight_layout()  # Adjusting layout to prevent overlapping labels\n",
    "    plt.show()\n",
    "# Calculating ROC curve and AUC for Logistic Regression\n",
    "fpr, tpr, threshold = metrics.roc_curve(y_test, y_pred)  \n",
    "roc_auc = metrics.auc(fpr, tpr)\n",
    "plot_roc_curve(fpr, tpr, roc_auc, \"Logistic Regression\")"
   ]
  },
  {
   "cell_type": "markdown",
   "id": "e5872a1f",
   "metadata": {},
   "source": [
    "Those pre-conceived notions i had about logistic regression being a suitable\n",
    "method were not right because the model has a chance of predicting right only 50% of the time \n",
    "so lets try random forest and decision tree instead"
   ]
  },
  {
   "cell_type": "code",
   "execution_count": null,
   "id": "0f120edf",
   "metadata": {},
   "outputs": [],
   "source": [
    "from sklearn.ensemble import RandomForestClassifier\n",
    "from sklearn.tree import DecisionTreeClassifier\n",
    "random_forest = RandomForestClassifier(n_estimators= 100)\n",
    "random_forest.fit(X_train, y_train)\n",
    "Y_pred_rf = random_forest.predict(X_test)\n",
    "random_forest_score = random_forest.score(X_test, y_test) * 100\n",
    "print(random_forest_score)"
   ]
  },
  {
   "cell_type": "code",
   "execution_count": null,
   "id": "e2f56655",
   "metadata": {},
   "outputs": [],
   "source": [
    "from sklearn.metrics import roc_curve, auc\n",
    "import matplotlib.pyplot as plt\n",
    "def plot_roc_curve(fpr, tpr, roc_auc, title):\n",
    "    plt.figure(figsize=(8, 6))  # Setting figure size\n",
    "    plt.plot(fpr, tpr, color='blue', lw=2, label='ROC curve (AUC = %0.2f)' % roc_auc)  # Setting line color, width, and label\n",
    "    plt.plot([0, 1], [0, 1], color='red', linestyle='--', lw=2)  # Adding diagonal dashed line\n",
    "    plt.xlim([0.0, 1.0])  # Setting x-axis limits\n",
    "    plt.ylim([0.0, 1.05])  # Setting y-axis limits\n",
    "    plt.xlabel('False Positive Rate', fontsize=12)  # Setting x-axis label and font size\n",
    "    plt.ylabel('True Positive Rate', fontsize=12)  # Setting y-axis label and font size\n",
    "    plt.title('Receiver Operating Characteristic (ROC) - ' + title, fontsize=14)  # Setting plot title and font size\n",
    "    plt.legend(loc='lower right', fontsize=11)  # Adding legend and set font size\n",
    "    plt.grid(True, linestyle='--', alpha=0.4)  # Adding grid lines with dashed style and transparency\n",
    "    plt.tight_layout()  # Adjusting layout to prevent overlapping labels\n",
    "    plt.show()\n",
    "# Calculating ROC curve and AUC for Logistic Regression\n",
    "fpr, tpr, threshold = metrics.roc_curve(y_test, Y_pred_rf)  \n",
    "roc_auc = metrics.auc(fpr, tpr)\n",
    "plot_roc_curve(fpr, tpr, roc_auc, \"Random Forest Classifier\")"
   ]
  },
  {
   "cell_type": "markdown",
   "id": "137258d4",
   "metadata": {},
   "source": [
    "As we can see the roc of random forest classifier  is much more better than logistic regression so we will tune this model \n",
    "with hyperparameters and find out how much can we improve the chances of fraud detection with it"
   ]
  },
  {
   "cell_type": "code",
   "execution_count": null,
   "id": "5670211c",
   "metadata": {},
   "outputs": [],
   "source": [
    "from sklearn.model_selection import GridSearchCV\n",
    "rf_classifier = RandomForestClassifier()\n",
    "param_grid = {\n",
    "    'n_estimators': [100, 200, 300],\n",
    "    'max_depth': [None, 10, 20],\n",
    "    'min_samples_split': [2, 5, 10],\n",
    "    'min_samples_leaf': [1, 2, 4],\n",
    "    'max_features': ['auto', 'sqrt']\n",
    "}\n",
    "grid_search = GridSearchCV(rf_classifier, param_grid, cv=5, scoring='accuracy')\n",
    "grid_search.fit(X_train, y_train)\n",
    "best_params = grid_search.best_params_\n",
    "print(\"Best Hyperparameters:\", best_params)\n",
    "best_rf_classifier = grid_search.best_estimator_\n",
    "y_pred_tuned = best_rf_classifier.predict(X_test)\n",
    "accuracy = accuracy_score(y_test, y_pred_tuned)\n",
    "print(\"Accuracy:\", accuracy)"
   ]
  },
  {
   "cell_type": "markdown",
   "id": "bf8bb551",
   "metadata": {},
   "source": [
    "What factors contribute to the prediction of fraudulent customers?\n",
    "\n",
    "Ensure that the request originates from a secure source. Verify the legitimacy of organizations requesting funds. Assess the transaction history of vendors involved.\n",
    "\n",
    "What preventive measures should be considered during the company's infrastructure update? Utilize only verified and secure applications. Access websites that are known to be secure. Employ secure internet connections, such as VPNs. Keep mobile and laptop security systems up to date. Refrain from responding to unsolicited calls, SMS messages, or emails. Promptly contact the bank if there are any suspicions of fraud or compromised security.\n",
    "\n",
    "How can the effectiveness of these actions be evaluated after implementation? Review electronic statements provided by the bank. Regularly monitor account activity. Maintain thorough records of all financial transactions."
   ]
  },
  {
   "cell_type": "code",
   "execution_count": null,
   "id": "58506661",
   "metadata": {},
   "outputs": [],
   "source": [
    "Well, I had better results with random forest so hyperparameters tuning would have made my model more better ,\n",
    "but due to my python kernel not working properly"
   ]
  }
 ],
 "metadata": {
  "kernelspec": {
   "display_name": "Python 3 (ipykernel)",
   "language": "python",
   "name": "python3"
  },
  "language_info": {
   "codemirror_mode": {
    "name": "ipython",
    "version": 3
   },
   "file_extension": ".py",
   "mimetype": "text/x-python",
   "name": "python",
   "nbconvert_exporter": "python",
   "pygments_lexer": "ipython3",
   "version": "3.9.7"
  }
 },
 "nbformat": 4,
 "nbformat_minor": 5
}
